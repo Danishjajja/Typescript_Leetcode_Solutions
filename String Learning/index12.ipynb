{
 "cells": [
  {
   "cell_type": "code",
   "execution_count": 1,
   "metadata": {},
   "outputs": [],
   "source": [
    "class Solution:\n",
    "    def reverseWords(self, s: str=\"Let's take LeetCode contest\") -> str:\n",
    "        reversed_sentence = \"\"\n",
    "        words = s.split(\" \")\n",
    "        for i in words:\n",
    "            reversed_sentence += ''.join(reversed(i))  # Reverse the characters within each word\n",
    "            if i != words[-1]:\n",
    "                reversed_sentence += \" \"  # Add a space to separate words\n",
    "        return reversed_sentence\n"
   ]
  }
 ],
 "metadata": {
  "kernelspec": {
   "display_name": "python12",
   "language": "python",
   "name": "python3"
  },
  "language_info": {
   "codemirror_mode": {
    "name": "ipython",
    "version": 3
   },
   "file_extension": ".py",
   "mimetype": "text/x-python",
   "name": "python",
   "nbconvert_exporter": "python",
   "pygments_lexer": "ipython3",
   "version": "3.12.0"
  }
 },
 "nbformat": 4,
 "nbformat_minor": 2
}
