{
 "cells": [
  {
   "cell_type": "code",
   "execution_count": 5,
   "metadata": {},
   "outputs": [
    {
     "ename": "TypeError",
     "evalue": "Solution.arrayStringsAreEqual() missing 1 required positional argument: 'word2'",
     "output_type": "error",
     "traceback": [
      "\u001b[1;31m---------------------------------------------------------------------------\u001b[0m",
      "\u001b[1;31mTypeError\u001b[0m                                 Traceback (most recent call last)",
      "\u001b[1;32md:\\Programming\\Typescript_Leetcode_Solutions\\String Learning\\index06.ipynb Cell 1\u001b[0m line \u001b[0;36m1\n\u001b[1;32m----> <a href='vscode-notebook-cell:/d%3A/Programming/Typescript_Leetcode_Solutions/String%20Learning/index06.ipynb#W0sZmlsZQ%3D%3D?line=0'>1</a>\u001b[0m \u001b[39mclass\u001b[39;49;00m \u001b[39mSolution\u001b[39;49;00m:\n\u001b[0;32m      <a href='vscode-notebook-cell:/d%3A/Programming/Typescript_Leetcode_Solutions/String%20Learning/index06.ipynb#W0sZmlsZQ%3D%3D?line=1'>2</a>\u001b[0m     \u001b[39mdef\u001b[39;49;00m \u001b[39marrayStringsAreEqual\u001b[39;49m(\u001b[39mself\u001b[39;49m, word1: [\u001b[39mstr\u001b[39;49m], word2: [\u001b[39mstr\u001b[39;49m]) \u001b[39m-\u001b[39;49m\u001b[39m>\u001b[39;49m \u001b[39mbool\u001b[39;49m:\n\u001b[0;32m      <a href='vscode-notebook-cell:/d%3A/Programming/Typescript_Leetcode_Solutions/String%20Learning/index06.ipynb#W0sZmlsZQ%3D%3D?line=2'>3</a>\u001b[0m         n1\u001b[39m=\u001b[39;49m\u001b[39m\"\u001b[39;49m\u001b[39m\"\u001b[39;49m\u001b[39m.\u001b[39;49mjoin(word1)\n",
      "\u001b[1;32md:\\Programming\\Typescript_Leetcode_Solutions\\String Learning\\index06.ipynb Cell 1\u001b[0m line \u001b[0;36m9\n\u001b[0;32m      <a href='vscode-notebook-cell:/d%3A/Programming/Typescript_Leetcode_Solutions/String%20Learning/index06.ipynb#W0sZmlsZQ%3D%3D?line=5'>6</a>\u001b[0m         \u001b[39mreturn\u001b[39;00m \u001b[39mTrue\u001b[39;00m\n\u001b[0;32m      <a href='vscode-notebook-cell:/d%3A/Programming/Typescript_Leetcode_Solutions/String%20Learning/index06.ipynb#W0sZmlsZQ%3D%3D?line=7'>8</a>\u001b[0m     \u001b[39mreturn\u001b[39;00m \u001b[39mFalse\u001b[39;00m\n\u001b[1;32m----> <a href='vscode-notebook-cell:/d%3A/Programming/Typescript_Leetcode_Solutions/String%20Learning/index06.ipynb#W0sZmlsZQ%3D%3D?line=8'>9</a>\u001b[0m \u001b[39mprint\u001b[39m(arrayStringsAreEqual([\u001b[39m\"\u001b[39;49m\u001b[39mab\u001b[39;49m\u001b[39m\"\u001b[39;49m, \u001b[39m\"\u001b[39;49m\u001b[39mc\u001b[39;49m\u001b[39m\"\u001b[39;49m], [\u001b[39m\"\u001b[39;49m\u001b[39ma\u001b[39;49m\u001b[39m\"\u001b[39;49m, \u001b[39m\"\u001b[39;49m\u001b[39mbc\u001b[39;49m\u001b[39m\"\u001b[39;49m]))\n",
      "\u001b[1;31mTypeError\u001b[0m: Solution.arrayStringsAreEqual() missing 1 required positional argument: 'word2'"
     ]
    }
   ],
   "source": [
    "class Solution:\n",
    "    def arrayStringsAreEqual(self, word1: [str], word2: [str]) -> bool:\n",
    "        n1=\"\".join(word1)\n",
    "        n2=\"\".join(word2)\n",
    "        if n1==n2:\n",
    "            return True\n",
    "    \n",
    "        return False\n",
    "    print(arrayStringsAreEqual([\"ab\", \"c\"], [\"a\", \"bc\"]))    "
   ]
  }
 ],
 "metadata": {
  "kernelspec": {
   "display_name": "python12",
   "language": "python",
   "name": "python3"
  },
  "language_info": {
   "codemirror_mode": {
    "name": "ipython",
    "version": 3
   },
   "file_extension": ".py",
   "mimetype": "text/x-python",
   "name": "python",
   "nbconvert_exporter": "python",
   "pygments_lexer": "ipython3",
   "version": "3.12.0"
  }
 },
 "nbformat": 4,
 "nbformat_minor": 2
}
