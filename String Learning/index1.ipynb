{
 "cells": [
  {
   "cell_type": "code",
   "execution_count": null,
   "metadata": {},
   "outputs": [],
   "source": [
    "class Solution(object):\n",
    "    def defangIPaddr(self, address):\n",
    "        address.replace(/\\./g,\"[.]\")\n",
    "        \"\"\"\n",
    "        :type address: str\n",
    "        :rtype: str\n",
    "        \"\"\"\n",
    "        "
   ]
  }
 ],
 "metadata": {
  "language_info": {
   "name": "python"
  }
 },
 "nbformat": 4,
 "nbformat_minor": 2
}
